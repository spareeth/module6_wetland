{
 "cells": [
  {
   "cell_type": "markdown",
   "metadata": {},
   "source": [
    "<div>\n",
    "<table style=\"width: 100%\">\n",
    "\t<tr>\n",
    "\t\t<td>\n",
    "\t\t<table style=\"width: 100%\">\n",
    "\t\t\t<tr>\n",
    "                <td ><center><font size=\"5\"><b>Module 52</b></font><center>\n",
    "                <center><font size=\"6\">Wetlands for Livelihood & Conservation</font><center></td>\n",
    "\t\t\t</tr>\n",
    "\t\t\t<tr>\n",
    "                <td><center><font size=\"14\">Notebook</font><center></td>\n",
    "\t\t\t</tr>\n",
    "\t\t\t<tr>\n",
    "                <td><center><font size=\"6\"><b>Wetland change analysis in Google Earth Engine (GEE)</b></font><center></td>\n",
    "\t\t\t</tr>\n",
    "\t\t</table>\n",
    "\t\t</td> \n",
    "\t\t<td><center><img src='https://github.com/spareeth/module6_wetland/blob/master/images/ihe-delft-institute_unesco_fc-lr.jpg?raw=true'></img></td>\n",
    "\t</tr>\n",
    "</table>\n",
    "</div>"
   ]
  },
  {
   "cell_type": "markdown",
   "metadata": {},
   "source": [
    "# Table of contents\n",
    "1. [Learning objectives](#learningobs)\n",
    "2. [Introduction](#introduction)\n",
    "3. [Installation of required library](#install)\n",
    "4. [Initializing the GEE](#initial)\n",
    "5. [Import data in GEE](#import)\n",
    "6. [Import Global LULC in GEE](#importglad)\n",
    "7. [Define study area & Clip](#clip)\n",
    "8. [Compute change area statistics](#area)\n",
    "9. [Image collection and temporal aggregation](#collection)\n",
    "10. [Exercise](#exercise)\n",
    "11. [References and tutorials](#reference)\n",
    "\n",
    "# 1. Learning objectives<a name=\"learningobs\"></a>\n",
    "\n",
    "- To access data from Google Earth Engine (GEE) using Python\n",
    "- To import global spatial data and interactively visualise\n",
    "- Interactively define a study area\n",
    "- Assess land use land cover dynamics globally and over study area\n",
    "- Analyse the land land use cover CHANGE dynamics over the study area for twenty years (2000-2020)\n",
    "- Analyse the long term precipitation data for forty years\n",
    "\n",
    "# 2. Introduction<a name=\"introduction\"></a>\n",
    "\n",
    "[Google Earth Engine (GEE)](https://earthengine.google.com/) is a computing platform that allows users to run geospatial analysis on Google's infrastructure. It brings together the world's satellite imagery from multiple sources – Landsat, Sentinel, MODIS etc. along with access to other secondary climatic and Geo-physical datasets covering entire globe. GEE has become very popular in the geospatial community and numerous environmental applications at local, regional, and global scales have been deployed all over the globe. GEE provides both JavaScript and Python APIs for making computational requests to the Earth Engine servers. \n",
    "\n",
    "Watch [this video](https://youtu.be/gKGOeTFHnKY) for an overview about GEE and what it can do.\n",
    "\n",
    "In this module we will use [Geemap](https://geemap.org/), which is a Python package for interactive mapping with Google Earth Engine (GEE). It is built upon ipyleaflet and ipywidgets, and enables users to analyze and visualize Earth Engine datasets interactively within a Jupyter-based environment.\n",
    "\n",
    "Read below paper about Geemap by the developed Prof. Quisheng Wu. <br>\n",
    "* Wu, Q., (2020). geemap: A Python package for interactive mapping with Google Earth Engine. The Journal of Open Source Software, 5(51), 2305. https://doi.org/10.21105/joss.02305\n",
    "    \n",
    "<b>Note</b>: You will need a valid login to access GEE. See [this document](docs/Signup_Instructions_GEE.pdf) for instructions to signup."
   ]
  },
  {
   "cell_type": "markdown",
   "metadata": {},
   "source": [
    "# 3. Installation of required library<a name=\"install\"></a>\n",
    "You need to have geemap python library installed in your computer. <br>\n",
    "If you are using conda environment then use the below command to install geemap. <br>"
   ]
  },
  {
   "cell_type": "code",
   "execution_count": null,
   "metadata": {},
   "outputs": [],
   "source": [
    "#conda install -c conda-forge geemap"
   ]
  },
  {
   "cell_type": "markdown",
   "metadata": {},
   "source": [
    "<b>OR</b> use pip to install the geemap package as given below"
   ]
  },
  {
   "cell_type": "code",
   "execution_count": null,
   "metadata": {},
   "outputs": [],
   "source": [
    "#!pip install --upgrade geemap"
   ]
  },
  {
   "cell_type": "code",
   "execution_count": null,
   "metadata": {},
   "outputs": [],
   "source": [
    "#geemap.update_package()"
   ]
  },
  {
   "cell_type": "markdown",
   "metadata": {},
   "source": [
    "# 4. Import Libraries & Initializing the GEE<a name=\"initial\"></a>\n",
    "Let us start with geemap by importing the library and bringing in a interactive map."
   ]
  },
  {
   "cell_type": "code",
   "execution_count": null,
   "metadata": {},
   "outputs": [],
   "source": [
    "import os\n",
    "import ee\n",
    "import geemap\n",
    "import pandas as pd"
   ]
  },
  {
   "cell_type": "markdown",
   "metadata": {},
   "source": [
    "Now you will define a interactive map and get it inline in this notebook. <br>\n",
    "<b> Note that first time you do this step in your computer, it will ask for authorize the access needed by GEE. You have to follow the instructions and finish the authorization. This is only one time in local computer</b> <br>\n",
    "See this [youtube video](https://www.youtube.com/watch?v=h0pz3S6Tvx0&t=359s) showing the authorization steps."
   ]
  },
  {
   "cell_type": "code",
   "execution_count": null,
   "metadata": {},
   "outputs": [],
   "source": [
    "Map = geemap.Map()\n",
    "Map"
   ]
  },
  {
   "cell_type": "markdown",
   "metadata": {},
   "source": [
    "Now that you have successfully initiated the geemap, let us explore data sets from GEE by importing them to this notebook."
   ]
  },
  {
   "cell_type": "markdown",
   "metadata": {},
   "source": [
    "# 5. Import data in GEE<a name=\"import\"></a>\n",
    "GEE offers access to petabytes of data from various data sources primarily from satellites and remote sensing.<br>\n",
    "You can check [this link](https://developers.google.com/earth-engine/datasets) for the data catalog of GEE.<br>\n",
    "<br>\n",
    "For each type of data, the catalog gives you the metadata and <b>\"Earthengine snippet\"</b> as shown below (only an example) which can be used to access this particular data. Below shown is the HydroSHEDS Digital Elevation Model (DEM) at 90m.<br>\n",
    "<br>\n",
    "<img align=\"left\" src=\"https://github.com/spareeth/module6_wetland/blob/master/images/gee1.png?raw=true\" alt=\"gee\" width=\"800\"/> <br>\n",
    "<br>"
   ]
  },
  {
   "cell_type": "markdown",
   "metadata": {},
   "source": [
    "**Let us now add the DEM to the interactive map above**"
   ]
  },
  {
   "cell_type": "markdown",
   "metadata": {},
   "source": [
    "Let us import the HydroSHEDS Digital Elevation Model (DEM) at 90m and display it in the Map above. See details of [HydroSHEDS Digital Elevation Model (DEM)](https://developers.google.com/earth-engine/datasets/catalog/WWF_HydroSHEDS_03CONDEM). Find more details abour HydroSHEDS [here](https://www.hydrosheds.org/)\n",
    "\n",
    "**GEE Functions used** \\\n",
    "[*ee.Image*](https://developers.google.com/earth-engine/apidocs/ee-image): An object to represent an Earth Engine image. \\\n",
    "[*Map.addLayer*](https://geemap.org/geemap/#geemap.geemap.Map.addLayer): Adds a given EE object to the map as a layer."
   ]
  },
  {
   "cell_type": "code",
   "execution_count": null,
   "metadata": {},
   "outputs": [],
   "source": [
    "dem = ee.Image(\"WWF/HydroSHEDS/03CONDEM\").select('b1')\n",
    "elevParams = {min: -20, max: 3000, 'gamma': 0.5};\n",
    "Map.addLayer(dem, elevParams, \"dem\")"
   ]
  },
  {
   "cell_type": "markdown",
   "metadata": {},
   "source": [
    "Let us import the global basin boundaries (vector) HydroSHEDS in GEE and display it in the Map above. See details of [Hydrobasins Level 3](https://developers.google.com/earth-engine/datasets/catalog/WWF_HydroSHEDS_v1_Basins_hybas_3).\n",
    "\n",
    "**GEE Functions used** \\\n",
    "[*ee.FeatureCollection*](https://developers.google.com/earth-engine/apidocs/ee-featurecollection): An object to represent an Earth Engine collection of vector, geometry etc. \\\n",
    "[*Map.addLayer*](https://geemap.org/geemap/#geemap.geemap.Map.addLayer): Adds a given EE object to the map as a layer."
   ]
  },
  {
   "cell_type": "code",
   "execution_count": null,
   "metadata": {},
   "outputs": [],
   "source": [
    "basins = ee.FeatureCollection('WWF/HydroSHEDS/v1/Basins/hybas_3');\n",
    "visualization = {'color': '808080', 'strokeWidth': 1}\n",
    "Map.addLayer(basins, visualization, \"Hydro Basins\")"
   ]
  },
  {
   "cell_type": "markdown",
   "metadata": {},
   "source": [
    "# 6. Import Global LULC in GEE<a name=\"importglad\"></a>\n",
    "In this tutorial the newly published global land use land cover data by researchers in University of Maryland will be used.<br> The global 30-m spatial resolution dataset quantifies changes in forest extent and height, cropland, built-up lands, surface water, wetlands and perennial snow and ice extent from the **year 2000 to 2020**. Landsat Analysis Ready Data served as an input for land cover and use mapping. Each thematic product was independently derived using locally and regionally calibrated machine learning tools (see references below). <br>\n",
    "<br>\n",
    "More details about this dataset is provided [here](https://glad.umd.edu/dataset/GLCLUC2020).<br>\n",
    "Read below paper for more details on this dataset. <br>\n",
    "* P.V. Potapov, M.C. Hansen, A.H. Pickens, A. Hernandez-Serna, A. Tyukavina, S. Turubanova, V. Zalles, X. Li, A. Khan, F. Stolle, N. Harris, X.-P. Song, A. Baggett, I. Kommareddy, A. Komareddy (2022). https://doi.org/10.3389/frsen.2022.856903\n",
    "\n",
    "<br>\n",
    "A high resolution change map is also produced showing the global changes in these classes over twenty years.<br>\n",
    "\n",
    "User can also explore this data in a GEE based application which can be accessed [here](https://glad.earthengine.app/view/glcluc-2000-2020).<br>\n",
    "<br>\n",
    "**Below image is the Legend to read the LULC maps (2000 and 2020) and the change map.**\n",
    "<br>\n",
    "<img align=\"left\" src=\"https://github.com/spareeth/module6_wetland/blob/master/images/glad_legend.png?raw=true\" alt=\"gee\" width=\"500\"/> <br>\n",
    "<br>"
   ]
  },
  {
   "cell_type": "markdown",
   "metadata": {},
   "source": [
    "<b>Note</b>: Here is the document (excel) with [detailed legend](docs/GLAD_legend.xlsx).<br>\n",
    "<br>\n",
    "Now let us start a new Map instance and import the LULC maps."
   ]
  },
  {
   "cell_type": "code",
   "execution_count": null,
   "metadata": {},
   "outputs": [],
   "source": [
    "Map = geemap.Map()\n",
    "Map"
   ]
  },
  {
   "cell_type": "code",
   "execution_count": null,
   "metadata": {},
   "outputs": [],
   "source": [
    "landmask = ee.Image(\"projects/glad/landBuffer4\").mask();\n",
    "change =ee.Image('projects/glad/GLCLU2020/LCLUC').updateMask(landmask);\n",
    "lulc00 = ee.Image('projects/glad/GLCLU2020/LCLUC_2000').updateMask(landmask)\n",
    "lulc20 = ee.Image('projects/glad/GLCLU2020/LCLUC_2020').updateMask(landmask);\n",
    "change =ee.Image('projects/glad/GLCLU2020/LCLUC').updateMask(landmask);\n",
    "\n",
    "visParamMap = {\"min\":0,\"max\":255,\"palette\":[\"FEFECC\",\"FAFAC3\",\"F7F7BB\",\"F4F4B3\",\"F1F1AB\",\"EDEDA2\",\"EAEA9A\",\"E7E792\",\"E4E48A\",\"E0E081\",\"DDDD79\",\"DADA71\",\"D7D769\",\"D3D360\",\"D0D058\",\"CDCD50\",\"CACA48\",\"C6C63F\",\"C3C337\",\"C0C02F\",\"BDBD27\",\"B9B91E\",\"B6B616\",\"B3B30E\",\"B0B006\",\"609C60\",\"5C985C\",\"589558\",\"549254\",\"508E50\",\"4C8B4C\",\"488848\",\"448544\",\"408140\",\"3C7E3C\",\"387B38\",\"347834\",\"317431\",\"2D712D\",\"296E29\",\"256B25\",\"216721\",\"1D641D\",\"196119\",\"155E15\",\"115A11\",\"0D570D\",\"095409\",\"065106\",\"643700\",\"643a00\",\"643d00\",\"644000\",\"644300\",\"644600\",\"644900\",\"654c00\",\"654f00\",\"655200\",\"655500\",\"655800\",\"655a00\",\"655d00\",\"656000\",\"656300\",\"666600\",\"666900\",\"666c00\",\"666f00\",\"667200\",\"667500\",\"667800\",\"667b00\",\"ff99ff\",\"FC92FC\",\"F98BF9\",\"F685F6\",\"F37EF3\",\"F077F0\",\"ED71ED\",\"EA6AEA\",\"E763E7\",\"E45DE4\",\"E156E1\",\"DE4FDE\",\"DB49DB\",\"D842D8\",\"D53BD5\",\"D235D2\",\"CF2ECF\",\"CC27CC\",\"C921C9\",\"C61AC6\",\"C313C3\",\"C00DC0\",\"BD06BD\",\"bb00bb\",\"000003\",\"000004\",\"000005\",\"BFC0C0\",\"B7BDC2\",\"AFBBC4\",\"A8B8C6\",\"A0B6C9\",\"99B3CB\",\"91B1CD\",\"89AFD0\",\"82ACD2\",\"7AAAD4\",\"73A7D6\",\"6BA5D9\",\"64A3DB\",\"5CA0DD\",\"549EE0\",\"4D9BE2\",\"4599E4\",\"3E96E6\",\"3694E9\",\"2E92EB\",\"278FED\",\"1F8DF0\",\"188AF2\",\"1088F4\",\"0986F7\",\"55A5A5\",\"53A1A2\",\"519E9F\",\"4F9B9C\",\"4D989A\",\"4B9597\",\"499294\",\"478F91\",\"458B8F\",\"43888C\",\"418589\",\"3F8286\",\"3D7F84\",\"3B7C81\",\"39797E\",\"37767B\",\"357279\",\"336F76\",\"316C73\",\"2F6970\",\"2D666E\",\"2B636B\",\"296068\",\"285D66\",\"bb93b0\",\"B78FAC\",\"B48CA9\",\"B189A6\",\"AE85A2\",\"AA829F\",\"A77F9C\",\"A47B99\",\"A17895\",\"9E7592\",\"9A718F\",\"976E8C\",\"946B88\",\"916885\",\"8D6482\",\"8A617F\",\"875E7B\",\"845A78\",\"815775\",\"7D5472\",\"7A506E\",\"774D6B\",\"744A68\",\"714765\",\"de7cbb\",\"DA77B7\",\"D772B3\",\"D46EAF\",\"D169AB\",\"CE64A8\",\"CB60A4\",\"C85BA0\",\"C4579C\",\"C15298\",\"BE4D95\",\"BB4991\",\"B8448D\",\"B54089\",\"B23B86\",\"AF3682\",\"AB327E\",\"A82D7A\",\"A52976\",\"A22473\",\"9F1F6F\",\"9C1B6B\",\"991667\",\"961264\",\"000000\",\"000000\",\"000000\",\"1964EB\",\"1555E4\",\"1147DD\",\"0E39D6\",\"0A2ACF\",\"071CC8\",\"030EC1\",\"0000BA\",\"0000BA\",\"040464\",\"0000FF\",\"3051cf\",\"000000\",\"000000\",\"000000\",\"000000\",\"000000\",\"000000\",\"000000\",\"000000\",\"000000\",\"000000\",\"000000\",\"000000\",\"000000\",\"000000\",\"000000\",\"000000\",\"000000\",\"000000\",\"000000\",\"000000\",\"547FC4\",\"4D77BA\",\"466FB1\",\"4067A7\",\"395F9E\",\"335895\",\"335896\",\"335897\",\"ff2828\",\"ffffff\",\"d0ffff\",\"ffe0d0\",\"ff7d00\",\"fac800\",\"c86400\",\"fff000\",\"afcd96\",\"afcd96\",\"64dcdc\",\"00ffff\",\"00ffff\",\"00ffff\",\"111133\",\"000000\"]};\n",
    "Map.addLayer(lulc00, visParamMap, \"Land Cover 2000\")\n",
    "Map.addLayer(lulc20, visParamMap, \"Land Cover 2020\")\n",
    "Map.addLayer(change, visParamMap, \"Land Cover Change 2000 - 2020\")"
   ]
  },
  {
   "cell_type": "markdown",
   "metadata": {},
   "source": [
    "**Let us have a detailed look into the change map over a high resolution basemap and split window**"
   ]
  },
  {
   "cell_type": "code",
   "execution_count": null,
   "metadata": {},
   "outputs": [],
   "source": [
    "left_layer = geemap.ee_tile_layer(change, visParamMap, name='Land Cover Change 2000 - 2020')"
   ]
  },
  {
   "cell_type": "code",
   "execution_count": null,
   "metadata": {},
   "outputs": [],
   "source": [
    "Map = geemap.Map()\n",
    "Map.split_map(left_layer, 'HYBRID', left_label='Basemap', right_label='Change 2000 - 2020',)\n",
    "Map"
   ]
  },
  {
   "cell_type": "markdown",
   "metadata": {},
   "source": [
    "# 7. Define study area & Clip<a name=\"clip\"></a>\n",
    "GEE offers 'algorithms' to conduct spatial data analysis. The analyses can be performed on the data offered in GEE and also with the user imported data.\n",
    "Here we are clipping the global landcover map to a user defined study area (interactively in map)\n",
    "\n",
    "**Functions used** \\\n",
    "[*clip*](https://developers.google.com/earth-engine/apidocs/ee-featurecollection-filter): Clips an image to a Geometry or Feature. \\\n",
    "[*Map.addLayer*](https://geemap.org/geemap/#geemap.geemap.Map.addLayer):Adds a given EE object to the map as a layer."
   ]
  },
  {
   "cell_type": "markdown",
   "metadata": {},
   "source": [
    "**Let us define our study area/region of interest(roi) for further analysis** <br>\n",
    "<br>\n",
    "In the below map, **draw your roi using the drawing tools provided on the left side.**"
   ]
  },
  {
   "cell_type": "code",
   "execution_count": null,
   "metadata": {},
   "outputs": [],
   "source": [
    "Map = geemap.Map()\n",
    "Map"
   ]
  },
  {
   "cell_type": "code",
   "execution_count": null,
   "metadata": {},
   "outputs": [],
   "source": [
    "Map.draw_features"
   ]
  },
  {
   "cell_type": "code",
   "execution_count": null,
   "metadata": {},
   "outputs": [],
   "source": [
    "roi=ee.FeatureCollection(Map.draw_features)\n",
    "change_roi = change.clip(roi)\n",
    "Map.addLayer(change_roi, visParamMap, 'Change 2020-2020 ROI')"
   ]
  },
  {
   "cell_type": "markdown",
   "metadata": {},
   "source": [
    "# 8. Compute change area statistics<a name=\"area\"></a>\n",
    "In this section, let us compute the change area statistics in Sq.Km\n",
    "\n",
    "**Functions used** \\\n",
    "[*image_area_by_group*](https://geemap.org/common/#geemap.common.image_area_by_group): Calculates the area of each class of an image."
   ]
  },
  {
   "cell_type": "code",
   "execution_count": null,
   "metadata": {},
   "outputs": [],
   "source": [
    "# Compute area of each land cover type in Sq.Km\n",
    "df = geemap.image_area_by_group(\n",
    "    change_roi, groups=None, scale=1000, denominator=1e6, decimal_places=4, verbose=True\n",
    ")\n",
    "df"
   ]
  },
  {
   "cell_type": "markdown",
   "metadata": {},
   "source": [
    "**Save the above table to a csv (excel) for further analysis**"
   ]
  },
  {
   "cell_type": "code",
   "execution_count": null,
   "metadata": {},
   "outputs": [],
   "source": [
    "df['class'] = df.index\n",
    "df.to_csv('change_area.csv', index=False)"
   ]
  },
  {
   "cell_type": "markdown",
   "metadata": {},
   "source": [
    "**As we are mainly interested in the major change classes, let us filter all the classes below 240. Refer to the legend.xlsx file**"
   ]
  },
  {
   "cell_type": "code",
   "execution_count": null,
   "metadata": {},
   "outputs": [],
   "source": [
    "df1 = df.loc[df['class'].astype(int) >= 240]"
   ]
  },
  {
   "cell_type": "markdown",
   "metadata": {},
   "source": [
    "**Plot the change area as a bar plot.**"
   ]
  },
  {
   "cell_type": "code",
   "execution_count": null,
   "metadata": {},
   "outputs": [],
   "source": [
    "df1.plot.bar(y='area', x='class')"
   ]
  },
  {
   "cell_type": "markdown",
   "metadata": {},
   "source": [
    "<br>\n",
    "<img align=\"left\" src=\"https://github.com/spareeth/module6_wetland/blob/master/images/change_legend.png?raw=true\" alt=\"gee\" width=\"400\"/>\n",
    "<br>"
   ]
  },
  {
   "cell_type": "markdown",
   "metadata": {},
   "source": [
    "<h2><b><span style=\"color:Green\">Question to Explore!</span></b></h2>\n",
    "\n",
    "How will you create a bar plot for Land cover area in 2000 and 2020 separately?"
   ]
  },
  {
   "cell_type": "markdown",
   "metadata": {},
   "source": [
    "# 9. Image collection and temporal aggregation <a name=\"collection\"></a>\n",
    "In GEE, a stack or time series of images are called Image Collections. GEE offers all time series data related to satellite data, climate, land cover etc as image collections. An ImageCollection can be loaded by pasting an Earth Engine asset ID into the ImageCollection constructor. You can find ImageCollection IDs in the [data catalog](https://developers.google.com/earth-engine/datasets). \n",
    "For example, to load the GPM Precipitation data (Rainfall), go to the [product page](https://developers.google.com/earth-engine/datasets/catalog/ECMWF_ERA5_MONTHLY) in data catalog and get the asset id given under *Earth Engine Snippet* as shown below.\n",
    "<br>\n",
    "<img src=\"https://github.com/spareeth/module6_wetland/blob/master/images/gee2.png?raw=true\" align=\"left\" alt=\"gee\" width=\"800\"/>\n",
    "<br>"
   ]
  },
  {
   "cell_type": "markdown",
   "metadata": {},
   "source": [
    "**Functions used** \\\n",
    "[*ee.ImageCollection*](https://geemap.org/common/#geemap.common.image_area_by_group): Calculates the area of each class of an image. \\\n",
    "[*filterBounds*](https://developers.google.com/earth-engine/apidocs/ee-imagecollection-filterbounds): Shortcut to filter a collection by intersection with geometry. Items in the collection with a footprint that fails to intersect the given geometry will be excluded. \\\n",
    "[*filterDate*](https://developers.google.com/earth-engine/apidocs/ee-imagecollection-filterdate): Shortcut to filter a collection by a date range. \\\n",
    "[select](https://developers.google.com/earth-engine/apidocs/ee-imagecollection-select): Select bands from each image in a collection.\n",
    "<br>\n",
    "<br>\n",
    "**Next, let us bring in monthly ERA5 total precipitation data and filter it to your study area for all the years from 1979 to 2019.** \\\n",
    "**note that the unit is m, but later converted to mm while plotting**"
   ]
  },
  {
   "cell_type": "code",
   "execution_count": null,
   "metadata": {},
   "outputs": [],
   "source": [
    "pcp_monthly = ee.ImageCollection(\"ECMWF/ERA5/MONTHLY\") \\\n",
    "    .filterBounds(roi) \\\n",
    "    .filterDate('1979-01-01', '2020-01-01') \\\n",
    "    .select('total_precipitation')"
   ]
  },
  {
   "cell_type": "markdown",
   "metadata": {},
   "source": [
    "Let us now compute the univariate statistics (mean) of the annual precipitation maps over your roi.\n",
    "<br>\n",
    "**Functions used** \\\n",
    "[*image_mean_value*](https://geemap.org/common/#geemap.common.image_mean_value):Retrieves the mean value of an image.\\\n",
    "[*getInfo*](https://developers.google.com/earth-engine/apidocs/ee-string-getinfo):  Retrieves the value of this object from the server."
   ]
  },
  {
   "cell_type": "code",
   "execution_count": null,
   "metadata": {},
   "outputs": [],
   "source": [
    "# Function to get annual precip image from monthly precip images per year\n",
    "def annual(year):\n",
    "    start_date = ee.Date.fromYMD(year, 1, 1)\n",
    "    end_date = start_date.advance(1, 'year')\n",
    "    \n",
    "    image = pcp_monthly.select('total_precipitation') \\\n",
    "        .filterBounds(roi) \\\n",
    "        .filterDate(start_date, end_date) \\\n",
    "        .sum()\n",
    "    stat = geemap.image_mean_value(image, roi, scale=1000)\n",
    "    return stat"
   ]
  },
  {
   "cell_type": "code",
   "execution_count": null,
   "metadata": {},
   "outputs": [],
   "source": [
    "# Apply the above function to compute annual Precipitation maps\n",
    "years = ee.List.sequence(1979, 2019)\n",
    "annualimages = years.map(annual).getInfo()\n",
    "years_list = years.getInfo()"
   ]
  },
  {
   "cell_type": "code",
   "execution_count": null,
   "metadata": {},
   "outputs": [],
   "source": [
    "df2 = pd.DataFrame(annualimages, columns = ['total_precipitation'])\n",
    "df2['year'] = years_list\n",
    "df2['precip_mm'] = df2['total_precipitation'] * 1000"
   ]
  },
  {
   "cell_type": "code",
   "execution_count": null,
   "metadata": {},
   "outputs": [],
   "source": [
    "df2.plot.bar(y='precip_mm', x='year', figsize=(12,5))"
   ]
  },
  {
   "cell_type": "markdown",
   "metadata": {},
   "source": [
    "**Save the above table to a csv (excel) file for further analysis**"
   ]
  },
  {
   "cell_type": "code",
   "execution_count": null,
   "metadata": {},
   "outputs": [],
   "source": [
    "df2.to_csv('Annual_precip_ROI.csv', index=False)"
   ]
  },
  {
   "cell_type": "markdown",
   "metadata": {},
   "source": [
    "In the final step download the clipped change map to your google drive in geotif format for further analysis in other GIS softwares like QGIS. \\\n",
    "**Note that depending on the area of interest export can take long time to finish**"
   ]
  },
  {
   "cell_type": "code",
   "execution_count": null,
   "metadata": {},
   "outputs": [],
   "source": [
    "geemap.ee_export_image_to_drive(\n",
    "    change_roi, region=roi.geometry(), description='lulc_change', fileNamePrefix='change', folder='gee_output'\n",
    ")"
   ]
  },
  {
   "cell_type": "markdown",
   "metadata": {},
   "source": [
    "# 10. Exercise <a name=\"exercise\"></a>\n",
    "\n",
    "Now that you have learned how to perform change analysis in GEE focusing on wetlands, repeat the same steps (in a new notebook) for any wetland from this list below:\n",
    "\n",
    "* Lake Naivasha, Kenya \n",
    "* Nyando wetland, Kenya \n",
    "* Namatala wetland, Uganda \n",
    "* Nakivubo wetland, Uganda \n",
    "* Lubigi wetland, Uganda \n",
    "* Kafue flats, Zambia\n",
    "* East Kolkata Wetlands, India\n",
    "* Bhoj Wetlands, India\n",
    "* Chilka Lake, India \n",
    "\n",
    "**Your Tasks**\n",
    "\n",
    "* Prepare a map showing the changes in your wetland with legend\n",
    "* Show the change dynamics in a bar plot\n",
    "* Show the long term rainfall pattern\n",
    "* Reflect on the major classes in 2000 and 2020 and the change observed\n",
    "\n",
    "Submit these results in a one page short report."
   ]
  },
  {
   "cell_type": "markdown",
   "metadata": {},
   "source": [
    "# 11. References and tutorials<a name=\"reference\"></a>\n",
    "There are multiple tutorials and guides available now online on working with GEE. Below is a list of useful resources on GEE.\n",
    "<br>\n",
    "* [geemap tutorials by Prof. Quisheng Wu](https://geemap.org/tutorials/)\n",
    "* [GEE developer's guide](https://developers.google.com/earth-engine/)\n",
    "* [GEE API Docs](https://developers.google.com/earth-engine/apidocs)"
   ]
  }
 ],
 "metadata": {
  "kernelspec": {
   "display_name": "Python 3 (ipykernel)",
   "language": "python",
   "name": "python3"
  },
  "language_info": {
   "codemirror_mode": {
    "name": "ipython",
    "version": 3
   },
   "file_extension": ".py",
   "mimetype": "text/x-python",
   "name": "python",
   "nbconvert_exporter": "python",
   "pygments_lexer": "ipython3",
   "version": "3.9.12"
  }
 },
 "nbformat": 4,
 "nbformat_minor": 4
}
